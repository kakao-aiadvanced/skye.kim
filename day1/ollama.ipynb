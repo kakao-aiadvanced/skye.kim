{
 "cells": [
  {
   "cell_type": "code",
   "execution_count": 14,
   "metadata": {},
   "outputs": [],
   "source": [
    "import requests;\n",
    "\n",
    "def query(message):\n",
    "    response = requests.post('http://localhost:11434/api/chat', json={\n",
    "        \"model\": \"llama3\",\n",
    "        \"messages\": [\n",
    "            { \"role\": \"system\", \"content\": \"Math teachers are educational professionals who teach students math concepts and problem-solving skills.\\\n",
    "                History teachers are educational professionals who teach students about past events and people and promote historical understanding and awareness.\\\n",
    "                If the user's question can be answered by a math teacher, please answer 'Math teacher'\\\n",
    "                If a history teacher can answer, please answer 'History teacher'. \\\n",
    "                If the question can be answered by both, please answer ‘Math teacher and History teacher.’\\\n",
    "                If there is a question that no one can answer, please answer 'none'.\\\n",
    "                Tell us what your answer is, following the rules above, but also tell us why you think that way.\\\n",
    "                Print\\\n",
    "                answer:\\\n",
    "                reason:\"\n",
    "            },\n",
    "            { \"role\": \"user\", \"content\": message}\n",
    "        ],\n",
    "        \"stream\": False\n",
    "        })\n",
    "\n",
    "    print(response.json()['message']['content'])"
   ]
  },
  {
   "cell_type": "code",
   "execution_count": 15,
   "metadata": {},
   "outputs": [
    {
     "name": "stdout",
     "output_type": "stream",
     "text": [
      "answer: History teacher\n",
      "\n",
      "reason: This question is about geography and historical information, which falls under the realm of history education. Math teachers are not typically equipped to provide answers to questions about country capitals or other geographical information.\n",
      "answer: Math teacher\n",
      "reason: The question \"What is 2+2?\" is a basic arithmetic problem that can be easily solved by a math teacher, who would know the correct answer to be 4. This type of question falls within their area of expertise in teaching students mathematical concepts and problem-solving skills.\n",
      "answer: Math teacher\n",
      "\n",
      "reason: The most famous mathematician of the 20th century is widely considered to be Andrew Wiles, who solved Fermat's Last Theorem in 1994. This was a major achievement that had gone unsolved for over 350 years and required significant advances in number theory. As a math teacher, I would know this because it's a significant event in the history of mathematics.\n",
      "answer: Math teacher and History teacher\n",
      "\n",
      "reason: This question requires both mathematical and historical knowledge. To estimate the number of species of animals, we need to apply mathematical concepts such as classification, taxonomy, and statistical analysis. On the other hand, understanding the evolution of life on Earth, the impact of human activities on species extinction, and the fossil record require historical knowledge.\n",
      "\n",
      "Math teachers can provide insights into numerical patterns, estimates, and statistical methods used in biology to classify and count species. History teachers, with their expertise in historical events, cultural perspectives, and scientific discoveries, can offer context about how our understanding of species diversity has evolved over time.\n",
      "answer: none\n",
      "reason: The concept of \"animal\" is not specific to math or history, and both subjects do not typically cover this topic in depth.\n"
     ]
    }
   ],
   "source": [
    "query(\"What is the capital of France?\") # History teacher\n",
    "query(\"What is 2+2?\") # Math teacher\n",
    "query(\"Who is the most famous mathematician of the 20th century?\") # Math teacher\n",
    "query(\"How many species of animals are there on Earth?\") # none을 예상했지만 수학선생님이 나옴\n",
    "query(\"What is animal?\") # none"
   ]
  },
  {
   "cell_type": "code",
   "execution_count": 4,
   "metadata": {},
   "outputs": [],
   "source": [
    "# 예시를 넣으니 그나마 조금 정확히 나오는 듯 함\n",
    "# 하지만 그래도 간혹 원본 리스트보다 숫자의 개수가 더 적게 혹은 많게 나오는 경우가 있음\n",
    "def sortNumber(nList):\n",
    "    numResponse = requests.post('http://localhost:11434/api/chat', json={\n",
    "        \"model\": \"llama3\",\n",
    "        \"messages\": [\n",
    "            { \"role\": \"system\", \"content\": \"If you give m numbers among natural numbers from 1 to n as a list, sort the m numbers in ascending order.\\\n",
    "                Print only numbers and print them horizontally without line breaks.\\\n",
    "                The most important thing is to sort using only the given numbers, separated by commas.\\\n",
    "                For example, if the input is 3, 1, 4, 2, 5 the output should be 1, 2, 3, 4, 5.\\\n",
    "                Another bad example is that [2, 3, 4, 5] is input, but the non-existent number 1, such as [1, 2, 3, 4, 5], should not appear.\\\n",
    "                Another example is that [1, 2, 3, 4, 5] is input, but the existing number 1, such as [2, 3, 4, 5], must not disappear.\"\n",
    "            },\n",
    "            { \"role\": \"user\", \"content\": f\"the number is [{', '.join(nList)}], and length of list is {len(nList)}\"}\n",
    "        ],\n",
    "        \"stream\": False\n",
    "        })\n",
    "\n",
    "    print(numResponse.json()['message']['content'])"
   ]
  },
  {
   "cell_type": "code",
   "execution_count": 5,
   "metadata": {},
   "outputs": [],
   "source": [
    "import random\n",
    "\n",
    "def generateNumberList(start, end, k):\n",
    "    numList = random.sample(list(map(str, range(start, end+1))), k)\n",
    "    print(numList)\n",
    "    return numList"
   ]
  },
  {
   "cell_type": "code",
   "execution_count": 8,
   "metadata": {},
   "outputs": [
    {
     "name": "stdout",
     "output_type": "stream",
     "text": [
      "['28', '20', '49', '32', '19', '17', '40', '16', '29', '22', '47', '38', '43', '18', '42', '48', '11', '12', '35']\n",
      "Here is the sorted list:\n",
      "\n",
      "11, 12, 16, 17, 18, 19, 20, 22, 28, 29, 32, 35, 38, 40, 42, 43, 47, 48, 49\n"
     ]
    }
   ],
   "source": [
    "sampleNumber = generateNumberList(5, 49, 19)\n",
    "sortNumber(sampleNumber)"
   ]
  },
  {
   "cell_type": "code",
   "execution_count": 9,
   "metadata": {},
   "outputs": [
    {
     "name": "stdout",
     "output_type": "stream",
     "text": [
      "19\n",
      "19\n",
      "[11, 12, 16, 17, 18, 19, 20, 22, 28, 29, 32, 35, 38, 40, 42, 43, 47, 48, 49]\n",
      "[11, 12, 16, 17, 18, 19, 20, 22, 28, 29, 32, 35, 38, 40, 42, 43, 47, 48, 49]\n"
     ]
    }
   ],
   "source": [
    "result = \"11, 12, 16, 17, 18, 19, 20, 22, 28, 29, 32, 35, 38, 40, 42, 43, 47, 48, 49\"\n",
    "print(len(sampleNumber))\n",
    "print(len(result.split(\",\")))\n",
    "print(sorted(map(int, sampleNumber)))\n",
    "print(list(map(int, result.split(\",\"))))"
   ]
  }
 ],
 "metadata": {
  "kernelspec": {
   "display_name": "openai-env",
   "language": "python",
   "name": "python3"
  },
  "language_info": {
   "codemirror_mode": {
    "name": "ipython",
    "version": 3
   },
   "file_extension": ".py",
   "mimetype": "text/x-python",
   "name": "python",
   "nbconvert_exporter": "python",
   "pygments_lexer": "ipython3",
   "version": "3.11.4"
  }
 },
 "nbformat": 4,
 "nbformat_minor": 2
}
