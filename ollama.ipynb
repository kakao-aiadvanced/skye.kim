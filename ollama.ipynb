{
 "cells": [
  {
   "cell_type": "code",
   "execution_count": 55,
   "metadata": {},
   "outputs": [],
   "source": [
    "import requests;\n",
    "\n",
    "def query(message):\n",
    "    response = requests.post('http://localhost:11434/api/chat', json={\n",
    "        \"model\": \"llama3\",\n",
    "        \"messages\": [\n",
    "            { \"role\": \"system\", \"content\": \"Math teachers are educational professionals who teach students math concepts and problem-solving skills.\\\n",
    "                History teachers are educational professionals who teach students about past events and people and promote historical understanding and awareness.\\\n",
    "                If the user's question can be answered by a math teacher, please answer 'Math teacher'\\\n",
    "                If a history teacher can answer, please answer 'History teacher'. \\\n",
    "                If the question can be answered by both, please answer ‘Math teacher and History teacher.’\\\n",
    "                If there is a question that no one can answer, please answer 'none'.\\\n",
    "                The most important part at this time is that you must only say words that correspond to the rules mentioned above, and please distinguish between the definitions of math teacher and history teacher when answering.\"\n",
    "            },\n",
    "            { \"role\": \"user\", \"content\": message}\n",
    "        ],\n",
    "        \"stream\": False\n",
    "        })\n",
    "\n",
    "    print(response.json()['message']['content'])"
   ]
  },
  {
   "cell_type": "code",
   "execution_count": 57,
   "metadata": {},
   "outputs": [
    {
     "name": "stdout",
     "output_type": "stream",
     "text": [
      "History teacher\n",
      "Math teacher\n",
      "Math teacher\n",
      "Math teacher\n",
      "none\n"
     ]
    }
   ],
   "source": [
    "query(\"What is the capital of France?\") # History teacher\n",
    "query(\"What is 2+2?\") # Math teacher\n",
    "query(\"Who is the most famous mathematician of the 20th century?\") # Math teacher\n",
    "query(\"How many species of animals are there on Earth?\") # none을 예상했지만 수학선생님이 나옴\n",
    "query(\"What is animal?\") # none"
   ]
  },
  {
   "cell_type": "code",
   "execution_count": 145,
   "metadata": {},
   "outputs": [],
   "source": [
    "# 예시를 넣으니 그나마 조금 정확히 나오는 듯 함\n",
    "# 하지만 그래도 간혹 원본 리스트보다 숫자의 개수가 더 적게 혹은 많게 나오는 경우가 있음\n",
    "def sortNumber(nList):\n",
    "    numResponse = requests.post('http://localhost:11434/api/chat', json={\n",
    "        \"model\": \"llama3\",\n",
    "        \"messages\": [\n",
    "            { \"role\": \"system\", \"content\": \"If you give m numbers among natural numbers from 1 to n as a list, sort the m numbers in ascending order.\\\n",
    "                Print only numbers and print them horizontally without line breaks.\\\n",
    "                The most important thing is to sort using only the given numbers, separated by commas.\\\n",
    "                For example, if the input is 3, 1, 4, 2, 5 the output should be 1, 2, 3, 4, 5.\\\n",
    "                Another bad example is that [2, 3, 4, 5] is input, but the non-existent number 1, such as [1, 2, 3, 4, 5], should not appear.\\\n",
    "                Another example is that [1, 2, 3, 4, 5] is input, but the existing number 1, such as [2, 3, 4, 5], must not disappear.\"\n",
    "            },\n",
    "            { \"role\": \"user\", \"content\": f\"the number is [{', '.join(nList)}], and length of list is {len(nList)}\"}\n",
    "        ],\n",
    "        \"stream\": False\n",
    "        })\n",
    "\n",
    "    print(numResponse.json()['message']['content'])"
   ]
  },
  {
   "cell_type": "code",
   "execution_count": 89,
   "metadata": {},
   "outputs": [],
   "source": [
    "import random\n",
    "\n",
    "def generateNumberList(start, end, k):\n",
    "    numList = random.sample(list(map(str, range(start, end+1))), k)\n",
    "    print(numList)\n",
    "    return numList"
   ]
  },
  {
   "cell_type": "code",
   "execution_count": 150,
   "metadata": {},
   "outputs": [
    {
     "name": "stdout",
     "output_type": "stream",
     "text": [
      "['43', '35', '9', '48', '30', '16', '28', '13', '18', '17', '19', '39', '49', '6', '31', '41', '27', '8', '37']\n",
      "Here are the numbers in ascending order, printed horizontally without line breaks:\n",
      "\n",
      "6, 8, 13, 16, 17, 18, 19, 21, 27, 28, 30, 31, 35, 37, 39, 41, 43, 48, 49\n"
     ]
    }
   ],
   "source": [
    "sampleNumber = generateNumberList(5, 49, 19)\n",
    "sortNumber(sampleNumber)"
   ]
  },
  {
   "cell_type": "code",
   "execution_count": 151,
   "metadata": {},
   "outputs": [
    {
     "name": "stdout",
     "output_type": "stream",
     "text": [
      "19\n",
      "19\n",
      "[6, 8, 9, 13, 16, 17, 18, 19, 27, 28, 30, 31, 35, 37, 39, 41, 43, 48, 49]\n",
      "[6, 8, 13, 16, 17, 18, 19, 21, 27, 28, 30, 31, 35, 37, 39, 41, 43, 48, 49]\n"
     ]
    }
   ],
   "source": [
    "result = \"6, 8, 13, 16, 17, 18, 19, 21, 27, 28, 30, 31, 35, 37, 39, 41, 43, 48, 49\"\n",
    "print(len(sampleNumber))\n",
    "print(len(result.split(\",\")))\n",
    "print(sorted(map(int, sampleNumber)))\n",
    "print(list(map(int, result.split(\",\"))))"
   ]
  }
 ],
 "metadata": {
  "kernelspec": {
   "display_name": "openai-env",
   "language": "python",
   "name": "python3"
  },
  "language_info": {
   "codemirror_mode": {
    "name": "ipython",
    "version": 3
   },
   "file_extension": ".py",
   "mimetype": "text/x-python",
   "name": "python",
   "nbconvert_exporter": "python",
   "pygments_lexer": "ipython3",
   "version": "3.11.4"
  }
 },
 "nbformat": 4,
 "nbformat_minor": 2
}
